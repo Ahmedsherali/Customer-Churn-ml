{
 "cells": [
  {
   "cell_type": "code",
   "execution_count": null,
   "id": "4692fc0b-e68c-4689-8bb5-fcb72d671701",
   "metadata": {},
   "outputs": [],
   "source": [
    "import pandas as pd\n",
    "import numpy as np\n",
    "import matplotlib.pyplot as plt\n",
    "import seaborn as sns\n"
   ]
  },
  {
   "cell_type": "code",
   "execution_count": null,
   "id": "d8829786-e40f-4e9a-a58e-f1a30482a245",
   "metadata": {},
   "outputs": [],
   "source": [
    "df = pd.read_csv(\"customer_churn.csv\")"
   ]
  },
  {
   "cell_type": "code",
   "execution_count": null,
   "id": "47352212-e6d4-41f3-aea5-8070a492fb77",
   "metadata": {},
   "outputs": [],
   "source": [
    "df.head()"
   ]
  },
  {
   "cell_type": "code",
   "execution_count": null,
   "id": "7896ad31-c008-41b6-b29a-d25ee2c7df74",
   "metadata": {},
   "outputs": [],
   "source": [
    "df.isnull().sum()"
   ]
  },
  {
   "cell_type": "code",
   "execution_count": null,
   "id": "3347d674-78ed-4eeb-b1e3-449645fd4c93",
   "metadata": {},
   "outputs": [],
   "source": [
    "df['Churn'].isnull().sum()"
   ]
  },
  {
   "cell_type": "code",
   "execution_count": null,
   "id": "e2f8a72c-b3b2-4e43-a082-31613111de3c",
   "metadata": {},
   "outputs": [],
   "source": [
    "from sklearn.preprocessing import LabelEncoder\n",
    "le = LabelEncoder()\n",
    "df['gender'] = le.fit_transform(df['gender']) \n"
   ]
  },
  {
   "cell_type": "code",
   "execution_count": null,
   "id": "231d7df9-5d3f-4275-bc6a-d6c991daa47e",
   "metadata": {},
   "outputs": [],
   "source": [
    "df['gender']"
   ]
  },
  {
   "cell_type": "code",
   "execution_count": null,
   "id": "3d8663b1-b9bc-4681-b0b4-09044f36392f",
   "metadata": {},
   "outputs": [],
   "source": [
    "df['MultipleLines'].unique()"
   ]
  },
  {
   "cell_type": "code",
   "execution_count": null,
   "id": "63ebb4fe-b69e-4953-bc73-5b0313fc2158",
   "metadata": {},
   "outputs": [],
   "source": [
    "df['StreamingTV'].unique()"
   ]
  },
  {
   "cell_type": "code",
   "execution_count": null,
   "id": "d45d45f8-51d6-4afb-9c5d-23ab3a472442",
   "metadata": {},
   "outputs": [],
   "source": [
    "df['DeviceProtection'].unique()"
   ]
  },
  {
   "cell_type": "code",
   "execution_count": null,
   "id": "e0929b30-f73a-4ecd-84d0-b65812058eb9",
   "metadata": {},
   "outputs": [],
   "source": [
    "for col in [   \n",
    "    'Partner', 'Dependents', 'PhoneService', 'MultipleLines',\n",
    "    'OnlineSecurity', 'DeviceProtection', 'TechSupport',\n",
    "    'StreamingTV', 'StreamingMovies', 'PaperlessBilling']:\n",
    "    df[col] = df[col].replace({\"No internet service\" : 'No' , \"No phone service\" : \"No\"})"
   ]
  },
  {
   "cell_type": "code",
   "execution_count": null,
   "id": "5182ee99-1e57-40e9-a49c-b83f5d9bfaaf",
   "metadata": {},
   "outputs": [],
   "source": [
    "df"
   ]
  },
  {
   "cell_type": "code",
   "execution_count": null,
   "id": "5e4855b9-e53f-476f-b79b-4e684a940d4f",
   "metadata": {},
   "outputs": [],
   "source": [
    "df['PaymentMethod'].unique()"
   ]
  },
  {
   "cell_type": "code",
   "execution_count": null,
   "id": "e7ee199d-decc-45c8-bf61-866ca9225aa2",
   "metadata": {},
   "outputs": [],
   "source": [
    "len(df['PaymentMethod'])"
   ]
  },
  {
   "cell_type": "code",
   "execution_count": null,
   "id": "076dd576-ac5a-4d90-9b4b-309ebe6d8189",
   "metadata": {},
   "outputs": [],
   "source": [
    "from sklearn.preprocessing import LabelEncoder\n",
    "\n",
    "for col in ['Partner', 'Dependents', 'PhoneService', 'MultipleLines',\n",
    "    'OnlineSecurity', 'DeviceProtection', 'TechSupport',\n",
    "    'StreamingTV', 'StreamingMovies', 'PaperlessBilling' , 'Churn']:\n",
    "    le = LabelEncoder()\n",
    "    df[col] = le.fit_transform(df[col])"
   ]
  },
  {
   "cell_type": "code",
   "execution_count": null,
   "id": "b427ea71-521d-4ef8-b224-47aa23ba11fa",
   "metadata": {},
   "outputs": [],
   "source": [
    "df"
   ]
  },
  {
   "cell_type": "code",
   "execution_count": null,
   "id": "33aef731-3d47-4e06-a144-495bcef5fd5b",
   "metadata": {},
   "outputs": [],
   "source": [
    "labels = df[['Churn']]"
   ]
  },
  {
   "cell_type": "code",
   "execution_count": null,
   "id": "3b7626cf-8b92-4dde-9bb9-8fc57943b3c5",
   "metadata": {},
   "outputs": [],
   "source": [
    "labels"
   ]
  },
  {
   "cell_type": "code",
   "execution_count": null,
   "id": "f71df8e9-6dfc-4794-82bf-d0252fa89ae5",
   "metadata": {},
   "outputs": [],
   "source": [
    "df['Contract'].value_counts()"
   ]
  },
  {
   "cell_type": "code",
   "execution_count": null,
   "id": "12528dd4-303f-467a-9642-c47c5b1b2656",
   "metadata": {},
   "outputs": [],
   "source": [
    "for col in ['InternetService','Contract','PaymentMethod']:\n",
    "    print(f\"Value counts in * * * {col}* * *\")\n",
    "    print(df[col].value_counts())"
   ]
  },
  {
   "cell_type": "code",
   "execution_count": null,
   "id": "08f32454-4849-4682-b81c-faa69ce37975",
   "metadata": {},
   "outputs": [],
   "source": [
    "df_cleared = df.drop(['customerID'] , axis=1 , )\n"
   ]
  },
  {
   "cell_type": "code",
   "execution_count": null,
   "id": "7ec2e3fd-e5e4-4bfb-9450-19f7b519ce84",
   "metadata": {},
   "outputs": [],
   "source": [
    "df_cleared['InternetService']"
   ]
  },
  {
   "cell_type": "code",
   "execution_count": null,
   "id": "ffe09a20-f7e0-451c-81bf-10152cb9b564",
   "metadata": {},
   "outputs": [],
   "source": [
    "df_cleared"
   ]
  },
  {
   "cell_type": "code",
   "execution_count": null,
   "id": "b3203a78-0d13-45ef-9211-68ce34eee2aa",
   "metadata": {},
   "outputs": [],
   "source": [
    "# for col in ['InternetService','Contract','PaymentMethod']:\n",
    "#     df_cleared.get_dummies"
   ]
  },
  {
   "cell_type": "code",
   "execution_count": null,
   "id": "3b5648e6-26fe-4903-88a6-fdbfd782000d",
   "metadata": {},
   "outputs": [],
   "source": [
    "# df_cleared['InternetService'] = pd.get_dummies(df_cleared , drop_first=True)"
   ]
  },
  {
   "cell_type": "code",
   "execution_count": null,
   "id": "c94b7180-97d8-4e75-a1d6-1d3170b136db",
   "metadata": {},
   "outputs": [],
   "source": [
    "internet_dummies = pd.get_dummies(df_cleared['InternetService'] , prefix=\"InternetService\", drop_first=False)\n"
   ]
  },
  {
   "cell_type": "code",
   "execution_count": null,
   "id": "a9cbf9ea-e2a9-417e-8546-bd7af10aebb7",
   "metadata": {},
   "outputs": [],
   "source": [
    "internet_dummies"
   ]
  },
  {
   "cell_type": "code",
   "execution_count": null,
   "id": "f0f4920c-52e5-40a3-92b2-d3464cde585b",
   "metadata": {},
   "outputs": [],
   "source": [
    "df_cleared.drop('InternetService', axis=1)"
   ]
  },
  {
   "cell_type": "code",
   "execution_count": null,
   "id": "94af1b09-e506-4d1c-a406-5d1c648b9fe6",
   "metadata": {},
   "outputs": [],
   "source": [
    "df_cleared = pd.concat([df_cleared , internet_dummies] , axis=1)"
   ]
  },
  {
   "cell_type": "code",
   "execution_count": null,
   "id": "228a0910-f593-4328-b431-56ddb9ee40a7",
   "metadata": {},
   "outputs": [],
   "source": [
    "df_cleared"
   ]
  },
  {
   "cell_type": "code",
   "execution_count": null,
   "id": "55f2ab08-adcf-4cbb-9bcc-35c16f31a536",
   "metadata": {},
   "outputs": [],
   "source": [
    "for col in ['InternetService_DSL' , 'InternetService_Fiber optic' , 'InternetService_No' ]:\n",
    "    le = LabelEncoder()\n",
    "    df_cleared[col] = le.fit_transform(df_cleared[col])"
   ]
  },
  {
   "cell_type": "code",
   "execution_count": null,
   "id": "5159745b-7122-4a4e-9c10-39c001835602",
   "metadata": {},
   "outputs": [],
   "source": [
    "df_cleared.drop('InternetService' , axis=1)"
   ]
  },
  {
   "cell_type": "code",
   "execution_count": null,
   "id": "57784565-68b9-44d4-86c0-4c8e8708ec1f",
   "metadata": {},
   "outputs": [],
   "source": [
    "df['OnlineBackup'].value_counts()"
   ]
  },
  {
   "cell_type": "code",
   "execution_count": null,
   "id": "997ac2d2-5465-4aec-b9b0-2efd9fa7a56a",
   "metadata": {},
   "outputs": [],
   "source": [
    "ONLINE_dummies = pd.get_dummies(df_cleared['OnlineBackup'] , prefix=\"ONLINE-BACKUP >\" , drop_first=False)"
   ]
  },
  {
   "cell_type": "code",
   "execution_count": null,
   "id": "aed9c4b0-fa5a-4c48-977f-428578da1a67",
   "metadata": {},
   "outputs": [],
   "source": [
    "ONLINE_dummies"
   ]
  },
  {
   "cell_type": "code",
   "execution_count": null,
   "id": "beb597d1-8524-4219-95fd-1ef49a7bccfe",
   "metadata": {},
   "outputs": [],
   "source": [
    "for col in ['ONLINE-BACKUP >_No', 'ONLINE-BACKUP >_No internet service'\t,'ONLINE-BACKUP >_Yes']:\n",
    "    df_updated = pd.concat([df_cleared , ONLINE_dummies], axis=1)"
   ]
  },
  {
   "cell_type": "code",
   "execution_count": null,
   "id": "aaf25a99-b6e3-4a96-af4e-a1d69cc7374c",
   "metadata": {},
   "outputs": [],
   "source": [
    "df_updated"
   ]
  },
  {
   "cell_type": "code",
   "execution_count": null,
   "id": "0fffbe97-2094-4622-8a56-dec19cc29b46",
   "metadata": {},
   "outputs": [],
   "source": [
    "for col in ['ONLINE-BACKUP >_No', 'ONLINE-BACKUP >_No internet service'\t,'ONLINE-BACKUP >_Yes' ]:\n",
    "    le = LabelEncoder()\n",
    "    df_updated[col] = le.fit_transform(df_updated[col])"
   ]
  },
  {
   "cell_type": "code",
   "execution_count": null,
   "id": "926c9d97-616e-4a21-98cf-e196de88d312",
   "metadata": {},
   "outputs": [],
   "source": [
    "df_updated"
   ]
  },
  {
   "cell_type": "code",
   "execution_count": null,
   "id": "b6f9e2eb-fa0e-4393-a8d3-aa33337d0316",
   "metadata": {},
   "outputs": [],
   "source": [
    "df_updated['PaymentMethod'].value_counts()"
   ]
  },
  {
   "cell_type": "code",
   "execution_count": null,
   "id": "95182d56-76cf-4046-8ac0-4b8db6e542ac",
   "metadata": {},
   "outputs": [],
   "source": [
    "PaymentMethod_dummies = pd.get_dummies(df_updated['PaymentMethod'] , prefix=\"PaymentMethod>\" , drop_first=False)"
   ]
  },
  {
   "cell_type": "code",
   "execution_count": null,
   "id": "bcd23f87-81e1-4c4a-b9d0-99cff2ecb66b",
   "metadata": {},
   "outputs": [],
   "source": [
    "PaymentMethod_dummies"
   ]
  },
  {
   "cell_type": "code",
   "execution_count": null,
   "id": "f1374a9b-b95e-4d7c-a5ce-44671c9b4253",
   "metadata": {},
   "outputs": [],
   "source": [
    "df_updated"
   ]
  },
  {
   "cell_type": "code",
   "execution_count": null,
   "id": "e9aab102-b273-4a55-822e-30c9c2b4e086",
   "metadata": {},
   "outputs": [],
   "source": [
    "df_new = pd.concat([df_updated , PaymentMethod_dummies] , axis=1 )"
   ]
  },
  {
   "cell_type": "code",
   "execution_count": null,
   "id": "0eff7036-137a-40e0-bb5f-3a0aaa08cffd",
   "metadata": {},
   "outputs": [],
   "source": [
    "df_new"
   ]
  },
  {
   "cell_type": "code",
   "execution_count": null,
   "id": "40d2f16f-5d9e-4d74-a854-06356cdbdda8",
   "metadata": {},
   "outputs": [],
   "source": [
    "for col in ['PaymentMethod>_Bank transfer (automatic)',\t'PaymentMethod>_Credit card (automatic)',\n",
    "            'PaymentMethod>_Electronic check',\t'PaymentMethod>_Mailed check']:\n",
    "    le = LabelEncoder()\n",
    "    df_new[col] = le.fit_transform(df_new[col])"
   ]
  },
  {
   "cell_type": "code",
   "execution_count": null,
   "id": "1f60e4aa-1152-4b7a-b4bc-17260e7f09bc",
   "metadata": {},
   "outputs": [],
   "source": [
    "df_new"
   ]
  },
  {
   "cell_type": "code",
   "execution_count": null,
   "id": "2d5d0b6d-ebb3-4200-81da-8d12d748dd17",
   "metadata": {},
   "outputs": [],
   "source": [
    "df_final = df_new.drop('InternetService' , axis=1)"
   ]
  },
  {
   "cell_type": "code",
   "execution_count": null,
   "id": "3c715ae2-478d-4a3e-9c51-85ce58775949",
   "metadata": {},
   "outputs": [],
   "source": [
    "df_final = df_final.drop('OnlineBackup', axis=1)"
   ]
  },
  {
   "cell_type": "code",
   "execution_count": null,
   "id": "03f3430c-6435-4913-abcf-9cea8283c339",
   "metadata": {},
   "outputs": [],
   "source": [
    "df_final"
   ]
  },
  {
   "cell_type": "code",
   "execution_count": null,
   "id": "f7044a70-aa1a-4415-bd16-f588d113f94a",
   "metadata": {},
   "outputs": [],
   "source": [
    "# | Row | Gender | Senior | Partner | Dependent | Tenure | Phone | OnlineSec | DeviceProt | TechSupport | Internet: DSL | Fiber Optic | No Internet | Backup: No | No Net | Yes | Bank Transfer | Credit Card | E-Check | Mailed Check |\n",
    "# | --- | ------ | ------ | ------- | --------- | ------ | ----- | --------- | ---------- | ----------- | ------------- | ----------- | ----------- | ---------- | ------ | --- | ------------- | ----------- | ------- | ------------ |\n",
    "# | 0   | F      | No     | Yes     | No        | 1      | No    | No        | No         | No          | ✅             | ❌           | ❌           | ❌          | ❌      | ✅   | ❌             | ❌           | ✅       | ❌            |\n",
    "# | 1   | M      | No     | No      | No        | 34     | Yes   | Yes       | Yes        | No          | ✅             | ❌           | ❌           | ✅          | ❌      | ❌   | ❌             | ❌           | ❌       | ✅            |\n",
    "# | 2   | M      | No     | No      | No        | 2      | Yes   | Yes       | No         | No          | ✅             | ❌           | ❌           | ❌          | ❌      | ✅   | ❌             | ❌           | ❌       | ✅            |\n",
    "# | 3   | M      | No     | No      | No        | 45     | No    | Yes       | Yes        | Yes         | ✅             | ❌           | ❌           | ✅          | ❌      | ❌   | ✅             | ❌           | ❌       | ❌            |\n",
    "# | 4   | F      | No     | No      | No        | 2      | Yes   | No        | No         | No          | ❌             | ✅           | ❌           | ✅          | ❌      | ❌   | ❌             | ❌           | ✅       | ❌            |\n"
   ]
  },
  {
   "cell_type": "code",
   "execution_count": null,
   "id": "c4be8589-4969-4e8c-973e-c25cc3c99fab",
   "metadata": {},
   "outputs": [],
   "source": [
    "from sklearn.model_selection import train_test_split\n",
    "features = df_final"
   ]
  },
  {
   "cell_type": "code",
   "execution_count": null,
   "id": "5d6d7132-6a4c-4e96-8419-07e0658b346f",
   "metadata": {},
   "outputs": [],
   "source": [
    "features"
   ]
  },
  {
   "cell_type": "code",
   "execution_count": null,
   "id": "43f6261c-44b1-4e7f-bf3c-78b2c2a8ee5e",
   "metadata": {},
   "outputs": [],
   "source": [
    "labels"
   ]
  },
  {
   "cell_type": "code",
   "execution_count": null,
   "id": "42ef707a-1e53-4b62-9190-55600416307e",
   "metadata": {},
   "outputs": [],
   "source": [
    "X_train , X_test , y_train , y_test =train_test_split(features , labels['Churn'] , test_size=0.2 , random_state=42)"
   ]
  },
  {
   "cell_type": "code",
   "execution_count": null,
   "id": "ea88a010-fa84-4522-ad44-b647bd09edca",
   "metadata": {},
   "outputs": [],
   "source": [
    "print(\"Train shape:\", X_train.shape, y_train.shape)\n",
    "print(\"Test shape:\", X_test.shape, y_test.shape)"
   ]
  },
  {
   "cell_type": "code",
   "execution_count": null,
   "id": "1dac8776-f550-4582-a756-e5de5e900475",
   "metadata": {},
   "outputs": [],
   "source": [
    "X_train"
   ]
  },
  {
   "cell_type": "code",
   "execution_count": null,
   "id": "326e0284-1446-44f8-877c-29b302506a2e",
   "metadata": {},
   "outputs": [],
   "source": [
    "from sklearn.ensemble import RandomForestClassifier\n",
    "model = RandomForestClassifier(random_state=42)\n",
    "model.fit(X_train , y_train )"
   ]
  },
  {
   "cell_type": "code",
   "execution_count": null,
   "id": "7d292488-4d77-425e-a644-fb3282d047da",
   "metadata": {},
   "outputs": [],
   "source": [
    "y_train"
   ]
  },
  {
   "cell_type": "code",
   "execution_count": null,
   "id": "5cac5d81-bee8-4f5e-850b-dafeec886a21",
   "metadata": {},
   "outputs": [],
   "source": [
    "# Find columns with string/object data types\n",
    "print(X_train.select_dtypes(include='object').columns)\n"
   ]
  },
  {
   "cell_type": "code",
   "execution_count": null,
   "id": "3016a035-13ef-4d4c-8077-5f62f4e6312c",
   "metadata": {},
   "outputs": [],
   "source": [
    "print(X_train['Contract'].unique())\n"
   ]
  },
  {
   "cell_type": "code",
   "execution_count": null,
   "id": "a5a17246-75e3-4931-8425-090f5558fd36",
   "metadata": {},
   "outputs": [],
   "source": [
    "# One-hot encode remaining categorical columns\n",
    "X_train = pd.get_dummies(X_train)\n",
    "X_test = pd.get_dummies(X_test)\n",
    "\n",
    "# Ensure columns match between train and test\n",
    "X_train, X_test = X_train.align(X_test, join='left', axis=1, fill_value=0)\n"
   ]
  },
  {
   "cell_type": "code",
   "execution_count": null,
   "id": "a855faef-0667-407b-bb60-a4ed2e1b2713",
   "metadata": {},
   "outputs": [],
   "source": [
    "model.fit(X_train, y_train)\n"
   ]
  },
  {
   "cell_type": "code",
   "execution_count": null,
   "id": "dffc1a00-2526-4308-ab57-d026a7bedbd7",
   "metadata": {},
   "outputs": [],
   "source": []
  },
  {
   "cell_type": "code",
   "execution_count": null,
   "id": "1409849b-a42d-41be-bcc4-7adb9a87a4d5",
   "metadata": {},
   "outputs": [],
   "source": [
    "X_train.columns"
   ]
  },
  {
   "cell_type": "code",
   "execution_count": null,
   "id": "b5ab6c30-e820-4e9d-8efa-58288cbd35d3",
   "metadata": {},
   "outputs": [],
   "source": [
    "y_pred = model.predict(X_test)\n"
   ]
  },
  {
   "cell_type": "code",
   "execution_count": null,
   "id": "06f97fcd-f3fe-4b41-80ff-a3acd3e0e807",
   "metadata": {},
   "outputs": [],
   "source": [
    "from sklearn.metrics import accuracy_score\n",
    "\n",
    "print(\"Accuracy:\", accuracy_score(y_test, y_pred))\n",
    "\n"
   ]
  },
  {
   "cell_type": "code",
   "execution_count": null,
   "id": "09772b04-a1c9-4b71-b510-e4016e97b63e",
   "metadata": {},
   "outputs": [],
   "source": []
  }
 ],
 "metadata": {
  "kernelspec": {
   "display_name": "Python 3 (ipykernel)",
   "language": "python",
   "name": "python3"
  },
  "language_info": {
   "codemirror_mode": {
    "name": "ipython",
    "version": 3
   },
   "file_extension": ".py",
   "mimetype": "text/x-python",
   "name": "python",
   "nbconvert_exporter": "python",
   "pygments_lexer": "ipython3",
   "version": "3.13.5"
  }
 },
 "nbformat": 4,
 "nbformat_minor": 5
}
